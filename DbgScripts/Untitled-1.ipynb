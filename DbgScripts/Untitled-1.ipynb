{
 "cells": [
  {
   "cell_type": "code",
   "execution_count": 55,
   "metadata": {},
   "outputs": [],
   "source": [
    "from PIL import Image\n",
    "import xlwt\n",
    "from io import BytesIO\n",
    "wbook = xlwt.Workbook()\n",
    "sh1 = wbook.add_sheet(\"JGD\", cell_overwrite_ok=True)\n",
    "from PIL import Image, ImageDraw\n",
    "img = Image. new('RGB', (115, 115), color = (255,255,255))\n",
    "d = ImageDraw.Draw(img)\n",
    "x = 10\n",
    "y = 10\n",
    "rowWidth = 13\n",
    "# month&year name.. text needs to be centered\n",
    "d.text((x,y), \"November 2025\", fill=(10,10,10))\n",
    "# week day-letters row\n",
    "y += rowWidth\n",
    "x = 10\n",
    "xOffset = 15\n",
    "dayStrs = \"SMTWTFS\"\n",
    "for s in dayStrs:\n",
    "    d.text((x,y), s, fill=(10,10,10))\n",
    "    x+= xOffset\n",
    "y += rowWidth\n",
    "d.line([(5,y),(110,y)], fill =(10,10,10), width = 0)\n",
    "y += rowWidth/2\n",
    "x = 10\n",
    "dateStrs = [str(d) for d in range(1,30)]\n",
    "for s in dateStrs:\n",
    "    if x > 110:\n",
    "        x = 10\n",
    "        y += rowWidth \n",
    "    tmpx = x if len(s) == 1 else x-3\n",
    "    d.text((tmpx,y), s, fill=(10,10,10))\n",
    "    x+= xOffset    \n",
    "fo = BytesIO()\n",
    "img.save(fo, format='bmp')\n",
    "sh1.insert_bitmap_data(fo.getvalue(),33,5)\n",
    "wbook.save('filename.xls')\n",
    "img.close()"
   ]
  },
  {
   "cell_type": "code",
   "execution_count": null,
   "metadata": {},
   "outputs": [],
   "source": [
    "from PIL import Image\n",
    "import xlwt\n",
    "from io import BytesIO\n",
    "\n",
    "\n",
    "wbook = xlwt.Workbook()\n",
    "sh1 = wbook.add_sheet(\"JGD\", cell_overwrite_ok=True)\n",
    "img = Image.open(\"deepam2.jpg\")\n",
    "image_parts = img.split()\n",
    "r = image_parts[0]\n",
    "g = image_parts[1] if len(image_parts) > 1 else 0\n",
    "b = image_parts[2] if len(image_parts) > 1 else 0\n",
    "img = Image.merge(\"RGB\", (r, r, r))\n",
    "fo = BytesIO()\n",
    "img.save(fo, format='bmp')\n",
    "sh1.insert_bitmap_data(fo.getvalue(),0,0)\n",
    "wbook.save('filename.xls')\n",
    "img.close()"
   ]
  },
  {
   "cell_type": "code",
   "execution_count": 60,
   "metadata": {},
   "outputs": [
    {
     "data": {
      "text/plain": [
       "31"
      ]
     },
     "execution_count": 60,
     "metadata": {},
     "output_type": "execute_result"
    }
   ],
   "source": [
    "import calendar\n",
    "\n",
    "calendar.monthrange(2002, 1)[1]"
   ]
  }
 ],
 "metadata": {
  "kernelspec": {
   "display_name": "Python 3",
   "language": "python",
   "name": "python3"
  },
  "language_info": {
   "codemirror_mode": {
    "name": "ipython",
    "version": 3
   },
   "file_extension": ".py",
   "mimetype": "text/x-python",
   "name": "python",
   "nbconvert_exporter": "python",
   "pygments_lexer": "ipython3",
   "version": "3.10.11"
  }
 },
 "nbformat": 4,
 "nbformat_minor": 2
}
